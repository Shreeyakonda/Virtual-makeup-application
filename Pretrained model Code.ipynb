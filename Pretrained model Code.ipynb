{
  "nbformat": 4,
  "nbformat_minor": 0,
  "metadata": {
    "colab": {
      "provenance": []
    },
    "kernelspec": {
      "name": "python3",
      "display_name": "Python 3"
    },
    "language_info": {
      "name": "python"
    }
  },
  "cells": [
    {
      "cell_type": "code",
      "execution_count": 1,
      "metadata": {
        "colab": {
          "base_uri": "https://localhost:8080/"
        },
        "id": "Qccwj9FVPOzz",
        "outputId": "23a91648-5c9c-4f9c-bdce-d8348f135a2a"
      },
      "outputs": [
        {
          "output_type": "stream",
          "name": "stdout",
          "text": [
            "Requirement already satisfied: opencv-python in /usr/local/lib/python3.10/dist-packages (4.10.0.84)\n",
            "Requirement already satisfied: dlib in /usr/local/lib/python3.10/dist-packages (19.24.2)\n",
            "Requirement already satisfied: scikit-image in /usr/local/lib/python3.10/dist-packages (0.24.0)\n",
            "Requirement already satisfied: tensorflow in /usr/local/lib/python3.10/dist-packages (2.17.1)\n",
            "Requirement already satisfied: numpy>=1.21.2 in /usr/local/lib/python3.10/dist-packages (from opencv-python) (1.26.4)\n",
            "Requirement already satisfied: scipy>=1.9 in /usr/local/lib/python3.10/dist-packages (from scikit-image) (1.13.1)\n",
            "Requirement already satisfied: networkx>=2.8 in /usr/local/lib/python3.10/dist-packages (from scikit-image) (3.4.2)\n",
            "Requirement already satisfied: pillow>=9.1 in /usr/local/lib/python3.10/dist-packages (from scikit-image) (11.0.0)\n",
            "Requirement already satisfied: imageio>=2.33 in /usr/local/lib/python3.10/dist-packages (from scikit-image) (2.36.0)\n",
            "Requirement already satisfied: tifffile>=2022.8.12 in /usr/local/lib/python3.10/dist-packages (from scikit-image) (2024.9.20)\n",
            "Requirement already satisfied: packaging>=21 in /usr/local/lib/python3.10/dist-packages (from scikit-image) (24.2)\n",
            "Requirement already satisfied: lazy-loader>=0.4 in /usr/local/lib/python3.10/dist-packages (from scikit-image) (0.4)\n",
            "Requirement already satisfied: absl-py>=1.0.0 in /usr/local/lib/python3.10/dist-packages (from tensorflow) (1.4.0)\n",
            "Requirement already satisfied: astunparse>=1.6.0 in /usr/local/lib/python3.10/dist-packages (from tensorflow) (1.6.3)\n",
            "Requirement already satisfied: flatbuffers>=24.3.25 in /usr/local/lib/python3.10/dist-packages (from tensorflow) (24.3.25)\n",
            "Requirement already satisfied: gast!=0.5.0,!=0.5.1,!=0.5.2,>=0.2.1 in /usr/local/lib/python3.10/dist-packages (from tensorflow) (0.6.0)\n",
            "Requirement already satisfied: google-pasta>=0.1.1 in /usr/local/lib/python3.10/dist-packages (from tensorflow) (0.2.0)\n",
            "Requirement already satisfied: h5py>=3.10.0 in /usr/local/lib/python3.10/dist-packages (from tensorflow) (3.12.1)\n",
            "Requirement already satisfied: libclang>=13.0.0 in /usr/local/lib/python3.10/dist-packages (from tensorflow) (18.1.1)\n",
            "Requirement already satisfied: ml-dtypes<0.5.0,>=0.3.1 in /usr/local/lib/python3.10/dist-packages (from tensorflow) (0.4.1)\n",
            "Requirement already satisfied: opt-einsum>=2.3.2 in /usr/local/lib/python3.10/dist-packages (from tensorflow) (3.4.0)\n",
            "Requirement already satisfied: protobuf!=4.21.0,!=4.21.1,!=4.21.2,!=4.21.3,!=4.21.4,!=4.21.5,<5.0.0dev,>=3.20.3 in /usr/local/lib/python3.10/dist-packages (from tensorflow) (4.25.5)\n",
            "Requirement already satisfied: requests<3,>=2.21.0 in /usr/local/lib/python3.10/dist-packages (from tensorflow) (2.32.3)\n",
            "Requirement already satisfied: setuptools in /usr/local/lib/python3.10/dist-packages (from tensorflow) (75.1.0)\n",
            "Requirement already satisfied: six>=1.12.0 in /usr/local/lib/python3.10/dist-packages (from tensorflow) (1.16.0)\n",
            "Requirement already satisfied: termcolor>=1.1.0 in /usr/local/lib/python3.10/dist-packages (from tensorflow) (2.5.0)\n",
            "Requirement already satisfied: typing-extensions>=3.6.6 in /usr/local/lib/python3.10/dist-packages (from tensorflow) (4.12.2)\n",
            "Requirement already satisfied: wrapt>=1.11.0 in /usr/local/lib/python3.10/dist-packages (from tensorflow) (1.16.0)\n",
            "Requirement already satisfied: grpcio<2.0,>=1.24.3 in /usr/local/lib/python3.10/dist-packages (from tensorflow) (1.68.0)\n",
            "Requirement already satisfied: tensorboard<2.18,>=2.17 in /usr/local/lib/python3.10/dist-packages (from tensorflow) (2.17.1)\n",
            "Requirement already satisfied: keras>=3.2.0 in /usr/local/lib/python3.10/dist-packages (from tensorflow) (3.5.0)\n",
            "Requirement already satisfied: tensorflow-io-gcs-filesystem>=0.23.1 in /usr/local/lib/python3.10/dist-packages (from tensorflow) (0.37.1)\n",
            "Requirement already satisfied: wheel<1.0,>=0.23.0 in /usr/local/lib/python3.10/dist-packages (from astunparse>=1.6.0->tensorflow) (0.45.0)\n",
            "Requirement already satisfied: rich in /usr/local/lib/python3.10/dist-packages (from keras>=3.2.0->tensorflow) (13.9.4)\n",
            "Requirement already satisfied: namex in /usr/local/lib/python3.10/dist-packages (from keras>=3.2.0->tensorflow) (0.0.8)\n",
            "Requirement already satisfied: optree in /usr/local/lib/python3.10/dist-packages (from keras>=3.2.0->tensorflow) (0.13.1)\n",
            "Requirement already satisfied: charset-normalizer<4,>=2 in /usr/local/lib/python3.10/dist-packages (from requests<3,>=2.21.0->tensorflow) (3.4.0)\n",
            "Requirement already satisfied: idna<4,>=2.5 in /usr/local/lib/python3.10/dist-packages (from requests<3,>=2.21.0->tensorflow) (3.10)\n",
            "Requirement already satisfied: urllib3<3,>=1.21.1 in /usr/local/lib/python3.10/dist-packages (from requests<3,>=2.21.0->tensorflow) (2.2.3)\n",
            "Requirement already satisfied: certifi>=2017.4.17 in /usr/local/lib/python3.10/dist-packages (from requests<3,>=2.21.0->tensorflow) (2024.8.30)\n",
            "Requirement already satisfied: markdown>=2.6.8 in /usr/local/lib/python3.10/dist-packages (from tensorboard<2.18,>=2.17->tensorflow) (3.7)\n",
            "Requirement already satisfied: tensorboard-data-server<0.8.0,>=0.7.0 in /usr/local/lib/python3.10/dist-packages (from tensorboard<2.18,>=2.17->tensorflow) (0.7.2)\n",
            "Requirement already satisfied: werkzeug>=1.0.1 in /usr/local/lib/python3.10/dist-packages (from tensorboard<2.18,>=2.17->tensorflow) (3.1.3)\n",
            "Requirement already satisfied: MarkupSafe>=2.1.1 in /usr/local/lib/python3.10/dist-packages (from werkzeug>=1.0.1->tensorboard<2.18,>=2.17->tensorflow) (3.0.2)\n",
            "Requirement already satisfied: markdown-it-py>=2.2.0 in /usr/local/lib/python3.10/dist-packages (from rich->keras>=3.2.0->tensorflow) (3.0.0)\n",
            "Requirement already satisfied: pygments<3.0.0,>=2.13.0 in /usr/local/lib/python3.10/dist-packages (from rich->keras>=3.2.0->tensorflow) (2.18.0)\n",
            "Requirement already satisfied: mdurl~=0.1 in /usr/local/lib/python3.10/dist-packages (from markdown-it-py>=2.2.0->rich->keras>=3.2.0->tensorflow) (0.1.2)\n"
          ]
        }
      ],
      "source": [
        "!pip install opencv-python dlib scikit-image tensorflow\n"
      ]
    },
    {
      "cell_type": "code",
      "source": [
        "import cv2\n",
        "import dlib\n",
        "import os\n",
        "import zipfile\n",
        "import numpy as np\n",
        "from skimage.metrics import structural_similarity as ssim\n",
        "from sklearn.metrics import accuracy_score, precision_score, recall_score, f1_score\n"
      ],
      "metadata": {
        "id": "HX2Szw1NPPZr"
      },
      "execution_count": 4,
      "outputs": []
    },
    {
      "cell_type": "code",
      "source": [
        "zip_path = '/content/archive.zip'\n",
        "\n",
        "extract_path = '/content/makeup/'\n",
        "\n",
        "# Unzip the dataset\n",
        "with zipfile.ZipFile(zip_path, 'r') as zip_ref:\n",
        "    zip_ref.extractall(extract_path)\n",
        "\n",
        "# Verify the contents of the extracted folder\n",
        "extracted_files = os.listdir(extract_path)\n",
        "print(extracted_files)"
      ],
      "metadata": {
        "colab": {
          "base_uri": "https://localhost:8080/"
        },
        "id": "kzMwME2EPbCx",
        "outputId": "f4b1600a-ff45-4bdc-c25e-8dce717ea15a"
      },
      "execution_count": 5,
      "outputs": [
        {
          "output_type": "stream",
          "name": "stdout",
          "text": [
            "['make_up.csv', 'with_makeup', 'no_makeup']\n"
          ]
        }
      ]
    },
    {
      "cell_type": "code",
      "source": [
        "def apply_lipstick(image, lips):\n",
        "    lip_mask = np.zeros(image.shape[:2], dtype=np.uint8)\n",
        "    cv2.fillPoly(lip_mask, [np.array(lips, dtype=np.int32)], 255)\n",
        "    image_with_lipstick = image.copy()\n",
        "    image_with_lipstick[lip_mask == 255] = (0, 0, 255)  # Red for lipstick\n",
        "    return image_with_lipstick\n",
        "\n",
        "def apply_eyeshadow(image, eyes):\n",
        "    eye_mask = np.zeros(image.shape[:2], dtype=np.uint8)\n",
        "    cv2.fillPoly(eye_mask, [np.array(eyes, dtype=np.int32)], 255)\n",
        "    image_with_eyeshadow = image.copy()\n",
        "    image_with_eyeshadow[eye_mask == 255] = (255, 0, 0)  # Blue for eyeshadow\n",
        "    return image_with_eyeshadow\n",
        "\n",
        "def apply_blush(image, blush_points):\n",
        "    image_with_blush = image.copy()\n",
        "    for point in blush_points:\n",
        "        cv2.circle(image_with_blush, point, 20, (147, 112, 219), -1)  # Purple for blush\n",
        "    return image_with_blush\n",
        "\n",
        "def apply_virtual_makeup(image, landmarks):\n",
        "    lips = landmarks[48:60]\n",
        "    eyes = landmarks[36:48]\n",
        "    blush = [landmarks[i] for i in [1, 2, 3, 4, 5, 6]]  # Simple blush points\n",
        "    image_with_lipstick = apply_lipstick(image, lips)\n",
        "    image_with_eyeshadow = apply_eyeshadow(image_with_lipstick, eyes)\n",
        "    image_with_blush = apply_blush(image_with_eyeshadow, blush)\n",
        "    return image_with_blush\n"
      ],
      "metadata": {
        "id": "NhRxqU0LPgv8"
      },
      "execution_count": 6,
      "outputs": []
    },
    {
      "cell_type": "code",
      "source": [
        "# Initialize dlib face detector and shape predictor\n",
        "detector = dlib.get_frontal_face_detector()\n",
        "predictor = dlib.shape_predictor(\"shape_predictor_68_face_landmarks.dat\")\n",
        "\n",
        "def get_face_regions_dlib(image):\n",
        "    gray = cv2.cvtColor(image, cv2.COLOR_BGR2GRAY)\n",
        "    faces = detector(gray)\n",
        "    if len(faces) == 0:\n",
        "        return None\n",
        "    shape = predictor(gray, faces[0])\n",
        "    landmarks = [(shape.part(i).x, shape.part(i).y) for i in range(68)]\n",
        "    return landmarks\n"
      ],
      "metadata": {
        "id": "JnfqgGzWPmPy"
      },
      "execution_count": 7,
      "outputs": []
    },
    {
      "cell_type": "code",
      "source": [
        "def process_images_for_makeup_dlib(no_makeup_folder, output_folder):\n",
        "    image_files = [f for f in os.listdir(no_makeup_folder) if f.endswith(('.jpg', '.png', '.jpeg'))]\n",
        "    if not os.path.exists(output_folder):\n",
        "        os.makedirs(output_folder)\n",
        "    for image_file in image_files:\n",
        "        image_path = os.path.join(no_makeup_folder, image_file)\n",
        "        image = cv2.imread(image_path)\n",
        "        landmarks = get_face_regions_dlib(image)\n",
        "        if landmarks:\n",
        "            processed_image = apply_virtual_makeup(image, landmarks)\n",
        "            cv2.imwrite(os.path.join(output_folder, image_file), processed_image)\n"
      ],
      "metadata": {
        "id": "Gwh9na1YPoNW"
      },
      "execution_count": 8,
      "outputs": []
    },
    {
      "cell_type": "code",
      "source": [
        "def compare_images(image1, image2):\n",
        "    if image1.shape != image2.shape:\n",
        "        image2 = cv2.resize(image2, (image1.shape[1], image1.shape[0]))\n",
        "\n",
        "    gray_image1 = cv2.cvtColor(image1, cv2.COLOR_BGR2GRAY)\n",
        "    gray_image2 = cv2.cvtColor(image2, cv2.COLOR_BGR2GRAY)\n",
        "\n",
        "    score, _ = ssim(gray_image1, gray_image2, full=True)\n",
        "    return score\n",
        "\n",
        "def calculate_overall_ssim(processed_images_folder, with_makeup_folder):\n",
        "    processed_images = os.listdir(processed_images_folder)\n",
        "    with_makeup_images = os.listdir(with_makeup_folder)\n",
        "\n",
        "    total_ssim_score = 0\n",
        "    valid_comparisons = 0\n",
        "\n",
        "    for image_file in processed_images:\n",
        "        if image_file in with_makeup_images:\n",
        "            processed_image_path = os.path.join(processed_images_folder, image_file)\n",
        "            processed_image = cv2.imread(processed_image_path)\n",
        "\n",
        "            real_makeup_image_path = os.path.join(with_makeup_folder, image_file)\n",
        "            real_makeup_image = cv2.imread(real_makeup_image_path)\n",
        "\n",
        "            ssim_score = compare_images(processed_image, real_makeup_image)\n",
        "            total_ssim_score += ssim_score\n",
        "            valid_comparisons += 1\n",
        "\n",
        "    if valid_comparisons > 0:\n",
        "        return total_ssim_score / valid_comparisons\n",
        "    else:\n",
        "        return 0\n"
      ],
      "metadata": {
        "id": "JsILDyiGPqY8"
      },
      "execution_count": 9,
      "outputs": []
    },
    {
      "cell_type": "code",
      "source": [
        "def calculate_metrics_with_threshold(processed_images_folder, with_makeup_folder, threshold=0.5):\n",
        "    processed_images = os.listdir(processed_images_folder)\n",
        "    with_makeup_images = os.listdir(with_makeup_folder)\n",
        "\n",
        "    y_true = []  # Ground-truth labels (1 for success, 0 for failure)\n",
        "    y_pred = []  # Predicted labels (based on SSIM threshold)\n",
        "\n",
        "    for image_file in processed_images:\n",
        "        if image_file in with_makeup_images:\n",
        "            processed_image_path = os.path.join(processed_images_folder, image_file)\n",
        "            processed_image = cv2.imread(processed_image_path)\n",
        "\n",
        "            real_makeup_image_path = os.path.join(with_makeup_folder, image_file)\n",
        "            real_makeup_image = cv2.imread(real_makeup_image_path)\n",
        "\n",
        "            ssim_score = compare_images(processed_image, real_makeup_image)\n",
        "\n",
        "            y_true.append(1)\n",
        "            y_pred.append(1 if ssim_score >= threshold else 0)\n",
        "\n",
        "    accuracy = accuracy_score(y_true, y_pred)\n",
        "    precision = precision_score(y_true, y_pred, zero_division=1)\n",
        "    recall = recall_score(y_true, y_pred, zero_division=1)\n",
        "    f1 = f1_score(y_true, y_pred, zero_division=1)\n",
        "\n",
        "    return {\n",
        "        \"Accuracy\": accuracy,\n",
        "        \"Precision\": precision,\n",
        "        \"Recall\": recall,\n",
        "        \"F1-Score\": f1\n",
        "    }\n"
      ],
      "metadata": {
        "id": "qkK9XRyyPrwC"
      },
      "execution_count": 10,
      "outputs": []
    },
    {
      "cell_type": "code",
      "source": [
        "# Paths to folders\n",
        "no_makeup_folder = '/content/makeup/no_makeup/'\n",
        "with_makeup_folder = '/content/makeup/with_makeup/'\n",
        "output_folder = '/content/output_dlib/'\n",
        "\n",
        "# Process images\n",
        "process_images_for_makeup_dlib(no_makeup_folder, output_folder)\n",
        "\n",
        "# Calculate SSIM score\n",
        "ssim_score = calculate_overall_ssim(output_folder, with_makeup_folder)\n",
        "print(f\"SSIM Score: {ssim_score:.4f}\")\n",
        "\n",
        "\n",
        "metrics = calculate_metrics_with_threshold(output_folder, with_makeup_folder, threshold=0.5)\n",
        "print(\"\\nClassification Metrics:\")\n",
        "print(f\"Accuracy: {metrics['Accuracy']:.4f}\")\n",
        "print(f\"Precision: {metrics['Precision']:.4f}\")\n",
        "print(f\"Recall: {metrics['Recall']:.4f}\")\n",
        "print(f\"F1-Score: {metrics['F1-Score']:.4f}\")\n"
      ],
      "metadata": {
        "colab": {
          "base_uri": "https://localhost:8080/"
        },
        "id": "QCBuQQspPt5T",
        "outputId": "bf1a285c-2137-419a-bd83-873f4006adf6"
      },
      "execution_count": 11,
      "outputs": [
        {
          "output_type": "stream",
          "name": "stdout",
          "text": [
            "SSIM Score: 0.5197\n",
            "\n",
            "Classification Metrics:\n",
            "Accuracy: 0.6400\n",
            "Precision: 1.0000\n",
            "Recall: 0.6400\n",
            "F1-Score: 0.7805\n"
          ]
        }
      ]
    },
    {
      "cell_type": "code",
      "source": [],
      "metadata": {
        "id": "eCX8epr4P1dh"
      },
      "execution_count": null,
      "outputs": []
    }
  ]
}